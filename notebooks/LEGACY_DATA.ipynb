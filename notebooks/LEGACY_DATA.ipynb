{
 "cells": [
  {
   "cell_type": "code",
   "execution_count": 1,
   "metadata": {},
   "outputs": [],
   "source": [
    "import os\n",
    "from nb_utils import extract_copy_csv"
   ]
  },
  {
   "cell_type": "code",
   "execution_count": null,
   "metadata": {},
   "outputs": [],
   "source": [
    "\n",
    "# ../data/legacy/2016-17/players/Aaron_Cresswell/gw.csv\n",
    "# ../data/legacy/2017-18/players/Aaron_Cresswell/gw.csv\n",
    "# ../data/legacy/2018-19/players/Aaron_Cresswell_402/gw.csv\n",
    "# ...\n",
    "# ../data/legacy/2023-24/players/Aaron_Cresswell_376/gw.csv\n",
    "\n",
    "years = list(range(16, 24))  # 16-23\n",
    "\n",
    "dest_dir = \"../data/legacy/processed/\"\n",
    "os.makedirs(dest_dir, exist_ok=True)\n",
    "\n",
    "for year in years:\n",
    "    source_dir = f\"../data/legacy/20{year}-{year+1}/players/\"\n",
    "    extract_copy_csv(year, source_dir, dest_dir)"
   ]
  },
  {
   "cell_type": "code",
   "execution_count": 4,
   "metadata": {},
   "outputs": [],
   "source": [
    "import os\n",
    "import pandas as pd\n",
    "import glob\n",
    "from collections import defaultdict\n",
    "\n",
    "# Directory containing your CSV files\n",
    "source_directory = '../data/legacy/processed/'\n",
    "combined_directory = '../data/legacy/combined'\n",
    "\n",
    "# Create combined directory if it doesn't exist\n",
    "os.makedirs(combined_directory, exist_ok=True)\n",
    "\n",
    "# Create a dictionary to hold file groups\n",
    "file_groups = defaultdict(list)\n",
    "\n",
    "# Group files by their base name\n",
    "for file_path in glob.glob(os.path.join(source_directory, '*.csv')):\n",
    "    parts = os.path.basename(file_path).split('_')\n",
    "    base_name = '_'.join(parts[:-1])\n",
    "    year = parts[-1].split('.')[0]  # Extract the year\n",
    "    file_groups[base_name].append((year, file_path))\n",
    "\n",
    "# Read and concatenate files for each group\n",
    "for name, files in file_groups.items():\n",
    "    # Sort files by year\n",
    "    sorted_files = sorted(files, key=lambda x: x[0])\n",
    "    df_list = [pd.read_csv(file[1]) for file in sorted_files]\n",
    "    combined_df = pd.concat(df_list, ignore_index=True)\n",
    "\n",
    "    # Save the combined DataFrame to a new CSV file in the 'combined' directory\n",
    "    combined_df.to_csv(os.path.join(combined_directory, f'{name}.csv'), index=False)"
   ]
  },
  {
   "cell_type": "code",
   "execution_count": null,
   "metadata": {},
   "outputs": [],
   "source": []
  }
 ],
 "metadata": {
  "kernelspec": {
   "display_name": "venv",
   "language": "python",
   "name": "python3"
  },
  "language_info": {
   "codemirror_mode": {
    "name": "ipython",
    "version": 3
   },
   "file_extension": ".py",
   "mimetype": "text/x-python",
   "name": "python",
   "nbconvert_exporter": "python",
   "pygments_lexer": "ipython3",
   "version": "3.10.12"
  }
 },
 "nbformat": 4,
 "nbformat_minor": 2
}
